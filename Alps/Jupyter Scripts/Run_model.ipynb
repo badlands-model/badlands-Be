{
 "cells": [
  {
   "cell_type": "markdown",
   "metadata": {},
   "source": [
    "# Run Badlands Models"
   ]
  },
  {
   "cell_type": "code",
   "execution_count": 1,
   "metadata": {
    "scrolled": true
   },
   "outputs": [
    {
     "name": "stdout",
     "output_type": "stream",
     "text": [
      "loading ice curve\n",
      "loading ice map\n"
     ]
    }
   ],
   "source": [
    "from badlands.model import Model as badlandsModel\n",
    "\n",
    "# initialise model\n",
    "model = badlandsModel()\n",
    "model.load_xml('../InputFiles/Alps_model.xml')\n",
    "#model.load_xml('../InputFiles/Alpshort.xml')\n"
   ]
  },
  {
   "cell_type": "code",
   "execution_count": 2,
   "metadata": {},
   "outputs": [],
   "source": [
    "maxtime = 100000"
   ]
  },
  {
   "cell_type": "code",
   "execution_count": 3,
   "metadata": {
    "scrolled": true
   },
   "outputs": [
    {
     "name": "stdout",
     "output_type": "stream",
     "text": [
      "   - Writing outputs (0.37 seconds; tNow = 0.0)\n",
      "   - Writing outputs (0.32 seconds; tNow = 1000.0)\n",
      "   - Writing outputs (0.37 seconds; tNow = 2000.0)\n",
      "   - Writing outputs (0.29 seconds; tNow = 3000.0)\n",
      "   - Writing outputs (0.29 seconds; tNow = 4000.0)\n",
      "   - Writing outputs (0.30 seconds; tNow = 5000.0)\n",
      "   - Writing outputs (0.31 seconds; tNow = 6000.0)\n",
      "   - Writing outputs (0.34 seconds; tNow = 7000.0)\n",
      "   - Writing outputs (0.31 seconds; tNow = 8000.0)\n",
      "   - Writing outputs (0.36 seconds; tNow = 9000.0)\n",
      "   - Writing outputs (0.36 seconds; tNow = 10000.0)\n",
      "   - Writing outputs (0.45 seconds; tNow = 11000.0)\n",
      "   - Writing outputs (0.31 seconds; tNow = 12000.0)\n",
      "   - Writing outputs (0.34 seconds; tNow = 13000.0)\n",
      "   - Writing outputs (0.30 seconds; tNow = 14000.0)\n",
      "   - Writing outputs (0.34 seconds; tNow = 15000.0)\n",
      "   - Writing outputs (0.30 seconds; tNow = 16000.0)\n",
      "   - Writing outputs (0.31 seconds; tNow = 17000.0)\n",
      "   - Writing outputs (0.31 seconds; tNow = 18000.0)\n",
      "   - Writing outputs (0.30 seconds; tNow = 19000.0)\n",
      "   - Writing outputs (0.34 seconds; tNow = 20000.0)\n",
      "   - Writing outputs (0.35 seconds; tNow = 21000.0)\n",
      "   - Writing outputs (0.33 seconds; tNow = 22000.0)\n",
      "   - Writing outputs (0.30 seconds; tNow = 23000.0)\n",
      "   - Writing outputs (0.30 seconds; tNow = 24000.0)\n",
      "   - Writing outputs (0.39 seconds; tNow = 25000.0)\n",
      "   - Writing outputs (0.35 seconds; tNow = 26000.0)\n",
      "   - Writing outputs (0.39 seconds; tNow = 27000.0)\n",
      "   - Writing outputs (0.35 seconds; tNow = 28000.0)\n",
      "   - Writing outputs (0.28 seconds; tNow = 29000.0)\n",
      "   - Writing outputs (0.30 seconds; tNow = 30000.0)\n",
      "   - Writing outputs (0.29 seconds; tNow = 31000.0)\n",
      "   - Writing outputs (0.30 seconds; tNow = 32000.0)\n",
      "   - Writing outputs (0.34 seconds; tNow = 33000.0)\n",
      "   - Writing outputs (0.32 seconds; tNow = 34000.0)\n",
      "   - Writing outputs (0.29 seconds; tNow = 35000.0)\n",
      "   - Writing outputs (0.29 seconds; tNow = 36000.0)\n",
      "   - Writing outputs (0.36 seconds; tNow = 37000.0)\n",
      "   - Writing outputs (0.34 seconds; tNow = 38000.0)\n",
      "   - Writing outputs (0.39 seconds; tNow = 39000.0)\n",
      "   - Writing outputs (0.44 seconds; tNow = 40000.0)\n",
      "   - Writing outputs (0.36 seconds; tNow = 41000.0)\n",
      "   - Writing outputs (0.29 seconds; tNow = 42000.0)\n",
      "   - Writing outputs (0.36 seconds; tNow = 43000.0)\n",
      "   - Writing outputs (0.32 seconds; tNow = 44000.0)\n",
      "   - Writing outputs (0.42 seconds; tNow = 45000.0)\n",
      "   - Writing outputs (0.35 seconds; tNow = 46000.0)\n",
      "   - Writing outputs (0.29 seconds; tNow = 47000.0)\n",
      "   - Writing outputs (0.29 seconds; tNow = 48000.0)\n",
      "   - Writing outputs (0.30 seconds; tNow = 49000.0)\n",
      "   - Writing outputs (0.32 seconds; tNow = 50000.0)\n",
      "   - Writing outputs (0.33 seconds; tNow = 51000.0)\n",
      "   - Writing outputs (0.30 seconds; tNow = 52000.0)\n",
      "   - Writing outputs (0.30 seconds; tNow = 53000.0)\n",
      "   - Writing outputs (0.32 seconds; tNow = 54000.0)\n",
      "   - Writing outputs (0.35 seconds; tNow = 55000.0)\n",
      "   - Writing outputs (0.31 seconds; tNow = 56000.0)\n",
      "   - Writing outputs (0.29 seconds; tNow = 57000.0)\n",
      "   - Writing outputs (0.30 seconds; tNow = 58000.0)\n",
      "   - Writing outputs (0.31 seconds; tNow = 59000.0)\n",
      "   - Writing outputs (0.30 seconds; tNow = 60000.0)\n",
      "   - Writing outputs (0.30 seconds; tNow = 61000.0)\n",
      "   - Writing outputs (0.34 seconds; tNow = 62000.0)\n",
      "   - Writing outputs (0.30 seconds; tNow = 63000.0)\n",
      "   - Writing outputs (0.30 seconds; tNow = 64000.0)\n",
      "   - Writing outputs (0.29 seconds; tNow = 65000.0)\n",
      "   - Writing outputs (0.30 seconds; tNow = 66000.0)\n",
      "   - Writing outputs (0.30 seconds; tNow = 67000.0)\n",
      "   - Writing outputs (0.29 seconds; tNow = 68000.0)\n",
      "   - Writing outputs (0.29 seconds; tNow = 69000.0)\n",
      "   - Writing outputs (0.29 seconds; tNow = 70000.0)\n",
      "   - Writing outputs (0.30 seconds; tNow = 71000.0)\n",
      "   - Writing outputs (0.29 seconds; tNow = 72000.0)\n",
      "   - Writing outputs (0.30 seconds; tNow = 73000.0)\n",
      "   - Writing outputs (0.30 seconds; tNow = 74000.0)\n",
      "   - Writing outputs (0.29 seconds; tNow = 75000.0)\n",
      "   - Writing outputs (0.33 seconds; tNow = 76000.0)\n",
      "   - Writing outputs (0.30 seconds; tNow = 77000.0)\n",
      "   - Writing outputs (0.28 seconds; tNow = 78000.0)\n",
      "   - Writing outputs (0.29 seconds; tNow = 79000.0)\n",
      "   - Writing outputs (0.33 seconds; tNow = 80000.0)\n",
      "   - Writing outputs (0.29 seconds; tNow = 81000.0)\n",
      "   - Writing outputs (0.30 seconds; tNow = 82000.0)\n",
      "   - Writing outputs (0.30 seconds; tNow = 83000.0)\n",
      "   - Writing outputs (0.30 seconds; tNow = 84000.0)\n",
      "   - Writing outputs (0.33 seconds; tNow = 85000.0)\n",
      "   - Writing outputs (0.34 seconds; tNow = 86000.0)\n",
      "   - Writing outputs (0.29 seconds; tNow = 87000.0)\n",
      "   - Writing outputs (0.30 seconds; tNow = 88000.0)\n",
      "   - Writing outputs (0.34 seconds; tNow = 89000.0)\n",
      "   - Writing outputs (0.32 seconds; tNow = 90000.0)\n",
      "   - Writing outputs (0.30 seconds; tNow = 91000.0)\n",
      "   - Writing outputs (0.30 seconds; tNow = 92000.0)\n",
      "   - Writing outputs (0.30 seconds; tNow = 93000.0)\n",
      "   - Writing outputs (0.31 seconds; tNow = 94000.0)\n",
      "   - Writing outputs (0.32 seconds; tNow = 95000.0)\n",
      "   - Writing outputs (0.30 seconds; tNow = 96000.0)\n",
      "   - Writing outputs (0.32 seconds; tNow = 97000.0)\n",
      "   - Writing outputs (0.36 seconds; tNow = 98000.0)\n",
      "   - Writing outputs (0.30 seconds; tNow = 99000.0)\n",
      "tNow = 100000.0 (1.13 seconds)\n",
      "   - Writing outputs (0.30 seconds; tNow = 100000.0)\n"
     ]
    }
   ],
   "source": [
    "model.run_to_time(maxtime,verbose=False)"
   ]
  },
  {
   "cell_type": "code",
   "execution_count": null,
   "metadata": {},
   "outputs": [],
   "source": []
  },
  {
   "cell_type": "code",
   "execution_count": null,
   "metadata": {},
   "outputs": [],
   "source": [
    "\n"
   ]
  }
 ],
 "metadata": {
  "kernelspec": {
   "display_name": "Python 3 (ipykernel)",
   "language": "python",
   "name": "python3"
  },
  "language_info": {
   "codemirror_mode": {
    "name": "ipython",
    "version": 3
   },
   "file_extension": ".py",
   "mimetype": "text/x-python",
   "name": "python",
   "nbconvert_exporter": "python",
   "pygments_lexer": "ipython3",
   "version": "3.8.10"
  }
 },
 "nbformat": 4,
 "nbformat_minor": 1
}
