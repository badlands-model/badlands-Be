{
 "cells": [
  {
   "cell_type": "markdown",
   "metadata": {},
   "source": [
    "# Run Badlands Models"
   ]
  },
  {
   "cell_type": "code",
   "execution_count": 1,
   "metadata": {
    "scrolled": true
   },
   "outputs": [
    {
     "name": "stdout",
     "output_type": "stream",
     "text": [
      "loading ice curve\n",
      "loading ice map\n"
     ]
    }
   ],
   "source": [
    "from badlands.model import Model as badlandsModel\n",
    "\n",
    "# initialise model\n",
    "model = badlandsModel()\n",
    "model.load_xml('../InputFiles/Alps_model.xml')\n",
    "#model.load_xml('../InputFiles/Alpshort.xml')\n"
   ]
  },
  {
   "cell_type": "code",
   "execution_count": 2,
   "metadata": {},
   "outputs": [],
   "source": [
    "maxtime = 100000"
   ]
  },
  {
   "cell_type": "code",
   "execution_count": 3,
   "metadata": {
    "scrolled": true
   },
   "outputs": [
    {
     "name": "stdout",
     "output_type": "stream",
     "text": [
      "   - Writing outputs (0.42 seconds; tNow = 0.0)\n",
      "   - Writing outputs (0.34 seconds; tNow = 1000.0)\n",
      "tNow = 2000.0 (1.73 seconds)\n",
      "   - Writing outputs (0.34 seconds; tNow = 2000.0)\n"
     ]
    }
   ],
   "source": [
    "model.run_to_time(maxtime,verbose=False)"
   ]
  },
  {
   "cell_type": "code",
   "execution_count": null,
   "metadata": {},
   "outputs": [],
   "source": []
  }
 ],
 "metadata": {
  "kernelspec": {
   "display_name": "Python 3 (ipykernel)",
   "language": "python",
   "name": "python3"
  },
  "language_info": {
   "codemirror_mode": {
    "name": "ipython",
    "version": 3
   },
   "file_extension": ".py",
   "mimetype": "text/x-python",
   "name": "python",
   "nbconvert_exporter": "python",
   "pygments_lexer": "ipython3",
   "version": "3.8.10"
  }
 },
 "nbformat": 4,
 "nbformat_minor": 1
}
